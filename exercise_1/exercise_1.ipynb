{
 "cells": [
  {
   "cell_type": "markdown",
   "id": "b8df0bbd",
   "metadata": {},
   "source": [
    "# Exercise 1: Pipelines and APIs\n",
    "In this exercise, we will explore the capabilities of LLMs for natural language processing (NLP) tasks using the Hugging Face (HF) ecosystem. First, we will use the `sentence-transformers` package to extract features from text data by running language models from HF in your own environment. Second, we will use the HF `InferenceClient` API to generate text by running language models hosted on HF servers. \n",
    "\n",
    "By the end of this exercise, you will have learned how to:\n",
    "- Extract features (embeddings) from text data using LLMs via `sentence-transformers`\n",
    "- Generate text using LLMs via the HF API"
   ]
  },
  {
   "cell_type": "markdown",
   "id": "979416b3c30fb86b",
   "metadata": {
    "collapsed": false
   },
   "source": [
    "## Using Notebook Environments \n",
    "1. To run a cell, press `shift + enter`. The notebook will execute the code in the cell and move to the next cell. If the cell contains a markdown cell (text only), it will render the markdown and move to the next cell.\n",
    "2. Since cells can be executed in any order and variables can be over-written, you may at some point feel that you have lost track of the state of your notebook. If this is the case, you can always restart the notebook by clicking Runtime in the menu bar (if you're using Colab) and selecting `Restart runtime`. This will clear all variables and outputs.\n",
    "3. The final variable in a cell will be printed on the screen. If you want to print preceding variables, use the `print()` function as usual.\n",
    "\n",
    "Notebook environments support code cells and markdown (text) cells. For the purposes of this workshop, markdown cells are used to provide high-level explanations of the code. More specific details are provided in the code cells themselves in the form of comments (lines beginning with `#`)"
   ]
  },
  {
   "cell_type": "markdown",
   "id": "c616368742ccde73",
   "metadata": {
    "collapsed": false
   },
   "source": [
    "## Environment Setup"
   ]
  },
  {
   "cell_type": "code",
   "execution_count": 1,
   "id": "initial_id",
   "metadata": {
    "collapsed": true
   },
   "outputs": [],
   "source": [
    "import sys\n",
    "if 'google.colab' in sys.modules:  # If in Google Colab environment\n",
    "    \n",
    "    # Installing requisite packages\n",
    "    !pip install --upgrade transformers sentence-transformers &> /dev/null\n",
    "\n",
    "# pip install --upgrade scikit-learn"
   ]
  },
  {
   "cell_type": "markdown",
   "id": "290c24c2ed829f80",
   "metadata": {
    "collapsed": false
   },
   "source": [
    "We begin by loading the requisite packages. For those coming from R, packages in Python are sometimes given shorter names for use in the code via the `import <name> as <nickname>` syntax (e.g. `import pandas as pd`). The nicknames are usually standardized. We here make use three packages:\n",
    "\n",
    "1. `pandas`: A very popular package for reading and manipulating data in python.\n",
    "2. `sentence_transformers`: A module for extracting features from text data using LLMs.\n",
    "3. `huggingface_hub`: A high-level API to interact with models hosted on the HF Hub. "
   ]
  },
  {
   "cell_type": "code",
   "execution_count": 2,
   "id": "267fad62d6f82855",
   "metadata": {
    "collapsed": false
   },
   "outputs": [
    {
     "name": "stderr",
     "output_type": "stream",
     "text": [
      "c:\\Users\\fenn\\AppData\\Local\\R-MINI~1\\Lib\\site-packages\\sentence_transformers\\cross_encoder\\CrossEncoder.py:13: TqdmWarning: IProgress not found. Please update jupyter and ipywidgets. See https://ipywidgets.readthedocs.io/en/stable/user_install.html\n",
      "  from tqdm.autonotebook import tqdm, trange\n"
     ]
    }
   ],
   "source": [
    "import pandas as pd\n",
    "from sentence_transformers import SentenceTransformer\n",
    "from huggingface_hub import InferenceClient\n",
    "import textwrap"
   ]
  },
  {
   "cell_type": "markdown",
   "id": "2b94762d",
   "metadata": {},
   "source": [
    "Get API key"
   ]
  },
  {
   "cell_type": "code",
   "execution_count": 3,
   "id": "4f560d18",
   "metadata": {},
   "outputs": [],
   "source": [
    "import os\n",
    "\n",
    "# Assuming 'src' is one level down (in the current directory or a subdirectory)\n",
    "path_to_src = os.path.join('..','src')  # Moves one level down to 'src' folder\n",
    "\n",
    "# Add the path to sys.path\n",
    "sys.path.append(path_to_src)\n",
    "\n",
    "# Now you can import your API_key module\n",
    "import API_key as key"
   ]
  },
  {
   "cell_type": "markdown",
   "id": "f6bf097acf12ea11",
   "metadata": {
    "collapsed": false
   },
   "source": [
    "## Feature Extraction with `sentence_transformers`\n",
    "\n",
    "The following begins by extracting features (embeddings) from the text data---numerical representations of the meaning of text---using the `sentence_transformers` package. To start, it uses three sentences that the code cell places in a list of strings. This list is provided as input to the model. \n",
    "\n",
    "The code makes use of the `all-MiniLM-L6-v2` model, which is a small and efficient embedding model, to extract features from the sentences. The model will encode the sentences into 384-dimensional vector representations. The cell will then print the features as a pandas dataframe for easy viewing. \n",
    "\n",
    "Run the cell below. "
   ]
  },
  {
   "cell_type": "code",
   "execution_count": 4,
   "id": "98ca015d4695f403",
   "metadata": {
    "collapsed": false
   },
   "outputs": [
    {
     "name": "stderr",
     "output_type": "stream",
     "text": [
      "c:\\Users\\fenn\\AppData\\Local\\R-MINI~1\\Lib\\site-packages\\transformers\\tokenization_utils_base.py:1601: FutureWarning: `clean_up_tokenization_spaces` was not set. It will be set to `True` by default. This behavior will be depracted in transformers v4.45, and will be then set to `False` by default. For more details check this issue: https://github.com/huggingface/transformers/issues/31884\n",
      "  warnings.warn(\n"
     ]
    },
    {
     "data": {
      "text/html": [
       "<div>\n",
       "<style scoped>\n",
       "    .dataframe tbody tr th:only-of-type {\n",
       "        vertical-align: middle;\n",
       "    }\n",
       "\n",
       "    .dataframe tbody tr th {\n",
       "        vertical-align: top;\n",
       "    }\n",
       "\n",
       "    .dataframe thead th {\n",
       "        text-align: right;\n",
       "    }\n",
       "</style>\n",
       "<table border=\"1\" class=\"dataframe\">\n",
       "  <thead>\n",
       "    <tr style=\"text-align: right;\">\n",
       "      <th></th>\n",
       "      <th>0</th>\n",
       "      <th>1</th>\n",
       "      <th>2</th>\n",
       "      <th>3</th>\n",
       "      <th>4</th>\n",
       "      <th>5</th>\n",
       "      <th>6</th>\n",
       "      <th>7</th>\n",
       "      <th>8</th>\n",
       "      <th>9</th>\n",
       "      <th>...</th>\n",
       "      <th>374</th>\n",
       "      <th>375</th>\n",
       "      <th>376</th>\n",
       "      <th>377</th>\n",
       "      <th>378</th>\n",
       "      <th>379</th>\n",
       "      <th>380</th>\n",
       "      <th>381</th>\n",
       "      <th>382</th>\n",
       "      <th>383</th>\n",
       "    </tr>\n",
       "  </thead>\n",
       "  <tbody>\n",
       "    <tr>\n",
       "      <th>I feel great this morning</th>\n",
       "      <td>-0.026462</td>\n",
       "      <td>-0.044373</td>\n",
       "      <td>0.072443</td>\n",
       "      <td>0.034525</td>\n",
       "      <td>0.089534</td>\n",
       "      <td>-0.050451</td>\n",
       "      <td>0.018811</td>\n",
       "      <td>0.071296</td>\n",
       "      <td>-0.020522</td>\n",
       "      <td>-0.043637</td>\n",
       "      <td>...</td>\n",
       "      <td>-0.005689</td>\n",
       "      <td>-0.000328</td>\n",
       "      <td>-0.049055</td>\n",
       "      <td>0.016308</td>\n",
       "      <td>-0.027642</td>\n",
       "      <td>0.017276</td>\n",
       "      <td>0.065253</td>\n",
       "      <td>0.017496</td>\n",
       "      <td>-0.022810</td>\n",
       "      <td>-0.036687</td>\n",
       "    </tr>\n",
       "    <tr>\n",
       "      <th>I am feeling very good today</th>\n",
       "      <td>-0.043895</td>\n",
       "      <td>-0.020341</td>\n",
       "      <td>0.066563</td>\n",
       "      <td>-0.006310</td>\n",
       "      <td>0.025980</td>\n",
       "      <td>-0.040420</td>\n",
       "      <td>0.079304</td>\n",
       "      <td>-0.009700</td>\n",
       "      <td>-0.042920</td>\n",
       "      <td>-0.025988</td>\n",
       "      <td>...</td>\n",
       "      <td>-0.045309</td>\n",
       "      <td>0.049151</td>\n",
       "      <td>-0.049057</td>\n",
       "      <td>0.017821</td>\n",
       "      <td>-0.018061</td>\n",
       "      <td>-0.010441</td>\n",
       "      <td>0.043070</td>\n",
       "      <td>0.018440</td>\n",
       "      <td>-0.008274</td>\n",
       "      <td>-0.006016</td>\n",
       "    </tr>\n",
       "    <tr>\n",
       "      <th>I am feeling terrible</th>\n",
       "      <td>0.017495</td>\n",
       "      <td>-0.057904</td>\n",
       "      <td>0.033315</td>\n",
       "      <td>0.001710</td>\n",
       "      <td>0.051957</td>\n",
       "      <td>-0.048159</td>\n",
       "      <td>0.007659</td>\n",
       "      <td>0.119096</td>\n",
       "      <td>0.029929</td>\n",
       "      <td>-0.068960</td>\n",
       "      <td>...</td>\n",
       "      <td>0.038813</td>\n",
       "      <td>0.003015</td>\n",
       "      <td>-0.074585</td>\n",
       "      <td>-0.018391</td>\n",
       "      <td>-0.026449</td>\n",
       "      <td>0.005867</td>\n",
       "      <td>0.051495</td>\n",
       "      <td>-0.009829</td>\n",
       "      <td>0.030009</td>\n",
       "      <td>-0.064299</td>\n",
       "    </tr>\n",
       "  </tbody>\n",
       "</table>\n",
       "<p>3 rows × 384 columns</p>\n",
       "</div>"
      ],
      "text/plain": [
       "                                   0         1         2         3    \\\n",
       "I feel great this morning    -0.026462 -0.044373  0.072443  0.034525   \n",
       "I am feeling very good today -0.043895 -0.020341  0.066563 -0.006310   \n",
       "I am feeling terrible         0.017495 -0.057904  0.033315  0.001710   \n",
       "\n",
       "                                   4         5         6         7    \\\n",
       "I feel great this morning     0.089534 -0.050451  0.018811  0.071296   \n",
       "I am feeling very good today  0.025980 -0.040420  0.079304 -0.009700   \n",
       "I am feeling terrible         0.051957 -0.048159  0.007659  0.119096   \n",
       "\n",
       "                                   8         9    ...       374       375  \\\n",
       "I feel great this morning    -0.020522 -0.043637  ... -0.005689 -0.000328   \n",
       "I am feeling very good today -0.042920 -0.025988  ... -0.045309  0.049151   \n",
       "I am feeling terrible         0.029929 -0.068960  ...  0.038813  0.003015   \n",
       "\n",
       "                                   376       377       378       379  \\\n",
       "I feel great this morning    -0.049055  0.016308 -0.027642  0.017276   \n",
       "I am feeling very good today -0.049057  0.017821 -0.018061 -0.010441   \n",
       "I am feeling terrible        -0.074585 -0.018391 -0.026449  0.005867   \n",
       "\n",
       "                                   380       381       382       383  \n",
       "I feel great this morning     0.065253  0.017496 -0.022810 -0.036687  \n",
       "I am feeling very good today  0.043070  0.018440 -0.008274 -0.006016  \n",
       "I am feeling terrible         0.051495 -0.009829  0.030009 -0.064299  \n",
       "\n",
       "[3 rows x 384 columns]"
      ]
     },
     "execution_count": 4,
     "metadata": {},
     "output_type": "execute_result"
    }
   ],
   "source": [
    "# Define sentences\n",
    "sentences = [\n",
    "    \"I feel great this morning\",\n",
    "    \"I am feeling very good today\",\n",
    "    \"I am feeling terrible\"\n",
    "]\n",
    "\n",
    "# Load the pre-trained model\n",
    "model = SentenceTransformer('all-MiniLM-L6-v2')\n",
    "\n",
    "# Extract features\n",
    "features = model.encode(sentences)\n",
    "\n",
    "# Print the features as a pandas dataframe\n",
    "pd.DataFrame(features, index=sentences)"
   ]
  },
  {
   "cell_type": "code",
   "execution_count": 5,
   "id": "821d9115",
   "metadata": {},
   "outputs": [
    {
     "name": "stdout",
     "output_type": "stream",
     "text": [
      "tensor([[1.0000, 0.7923, 0.5926],\n",
      "        [0.7923, 1.0000, 0.5782],\n",
      "        [0.5926, 0.5782, 1.0000]])\n"
     ]
    }
   ],
   "source": [
    "similarities = model.similarity(features, features)\n",
    "print(similarities)"
   ]
  },
  {
   "cell_type": "markdown",
   "id": "80664214bd695bf0",
   "metadata": {
    "collapsed": false
   },
   "source": [
    "**TASK 1**: Have a scroll through the features printed by the cell. Can you see that the features of the first two sentences are more similar to each other (i.e., have similar numerical values) than they are to the third sentence? Why do you think this is the case?\n",
    "\n",
    "**TASK 2**: Try to add another sentence to the `sentences` list defined above by copy-pasting one of the existing sentences but replacing one or two words with a synonym. For instance, you could change \"I feel *great* this morning\" to \"I feel *fantastic* this morning\". Then rerun the cell. What do you notice about the features of this new sentence compared to the original?"
   ]
  },
  {
   "cell_type": "markdown",
   "id": "efc8d5804ede6511",
   "metadata": {
    "collapsed": false
   },
   "source": [
    "## Text Generation with `huggingface_hub`\n",
    "This section demonstrates how to use the HF API. The main benefit of the API is that it allows us to run the latest, largest open models without having the specialised hardware needed to run them (since the models are run on the cloud). We will use the `meta-llama/Meta-Llama-3-8B-Instruct` to start with (we will show you how to use the larger 70B model in the exercise).  \n",
    "\n",
    "The code begins by initializing the `InferenceClient` with an access token, **which you will need to replace with your own [access token](https://huggingface.co/settings/tokens)** (access tokens start with 'hf_...'). \n",
    "\n",
    "It is common for large text-generation models to take a \"system-user\" (or \"system-user-assistant\") prompting format. The format begins with `\"system\"` and then alternates between `\"user\"` and `\"assistant\"` roles to generate a chat-like conversation. In this case, the \"system\" prompt provides the general role that the model should play, and the \"user\" prompt provides the task-specific details. The optional `\"assistant\"` role can be used to add past model responses to the prompt.\n",
    "\n",
    "Run the cell below.\n"
   ]
  },
  {
   "cell_type": "code",
   "execution_count": 8,
   "id": "9a67e494741df71e",
   "metadata": {},
   "outputs": [
    {
     "name": "stdout",
     "output_type": "stream",
     "text": [
      "Here's a summary of the text:  Prince John, known for his bravery and courage, sets out on an\n",
      "adventure to explore unknown lands. He travels through dense forests, vast deserts, and high\n",
      "mountains before reaching the edge of the world, where he finds a magical portal to a parallel\n",
      "universe. He decides to stay in this new world, where he finds strange creatures and mystical\n",
      "beings, and knows he's found his true calling.\n"
     ]
    }
   ],
   "source": [
    "# Initialize client\n",
    "# api_key = '<your_access_token>' \n",
    "client = InferenceClient(token=key.hugging_api_key_read)\n",
    "\n",
    "# Create prompts\n",
    "system_content = \"You are a helpful assistant.\"\n",
    "user_content = \"\"\"\n",
    "    Summarize the following text:\n",
    "    \n",
    "    Once upon a time in a land far far away, there was a young prince named John. He was known for his bravery and courage. \n",
    "    One day, he decided to go on an adventure to explore the unknown lands. The prince rode his horse through the dense forests,\n",
    "    crossed the vast deserts, and climbed the highest mountains. After many days of travel, he finally reached the edge of the world.\n",
    "    There, he found a magical portal that led to a parallel universe. The prince stepped through the portal and found himself in a\n",
    "    world filled with strange creatures and mystical beings. He knew that he had found his true calling and decided to stay in this\n",
    "    new world forever.\n",
    "\"\"\"\n",
    "\n",
    "# Feed prompts into model\n",
    "output = client.chat_completion(\n",
    "    messages=[\n",
    "        {\"role\": \"system\", \"content\": system_content},\n",
    "        {\"role\": \"user\", \"content\": user_content}\n",
    "    ],\n",
    "    model=\"meta-llama/Meta-Llama-3-8B-Instruct\",\n",
    "    max_tokens=500\n",
    ")\n",
    "\n",
    "# Accessing the text in the output object\n",
    "text = output.choices[0].message.content\n",
    "\n",
    "# Printing the output in a more readable format\n",
    "print('\\n'.join(textwrap.wrap(text, 100)))"
   ]
  },
  {
   "cell_type": "markdown",
   "id": "d4a24c50147f2cf7",
   "metadata": {
    "collapsed": false
   },
   "source": [
    "**TASK 1**: Try copy-pasting an abstract of one our your papers into the `user_content` variable and rerun the cell. Does LLama-3 do a good job of summarizing the work?<br>\n",
    "**TASK 2**: Change the `system_content` to `\"You are an incredibly unhelpful assistant.\"` and rerun the cell. Note the power of the system prompt for directing the model's behavior.<br>\n",
    "**TASK 3**: Change the `system_content` back to `\"You are a helpful assistant.\"`. Now try changing the `max_tokens` parameter and see how it affects the length of the summaries.<br>\n",
    "**TASK 4**: Play around, experiment, and have fun with the model! \n",
    "\n"
   ]
  }
 ],
 "metadata": {
  "kernelspec": {
   "display_name": "Python 3",
   "language": "python",
   "name": "python3"
  },
  "language_info": {
   "codemirror_mode": {
    "name": "ipython",
    "version": 3
   },
   "file_extension": ".py",
   "mimetype": "text/x-python",
   "name": "python",
   "nbconvert_exporter": "python",
   "pygments_lexer": "ipython3",
   "version": "3.11.9"
  }
 },
 "nbformat": 4,
 "nbformat_minor": 5
}
